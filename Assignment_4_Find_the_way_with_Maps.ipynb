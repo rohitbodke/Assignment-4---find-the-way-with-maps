{
  "nbformat": 4,
  "nbformat_minor": 0,
  "metadata": {
    "colab": {
      "provenance": [],
      "authorship_tag": "ABX9TyPjGAFlQKTZfZ3Wo78xkgeY",
      "include_colab_link": true
    },
    "kernelspec": {
      "name": "python3",
      "display_name": "Python 3"
    },
    "language_info": {
      "name": "python"
    }
  },
  "cells": [
    {
      "cell_type": "markdown",
      "metadata": {
        "id": "view-in-github",
        "colab_type": "text"
      },
      "source": [
        "<a href=\"https://colab.research.google.com/github/rohitbodke/Assignment-4---find-the-way-with-maps/blob/main/Assignment_4_Find_the_way_with_Maps.ipynb\" target=\"_parent\"><img src=\"https://colab.research.google.com/assets/colab-badge.svg\" alt=\"Open In Colab\"/></a>"
      ]
    },
    {
      "cell_type": "code",
      "execution_count": null,
      "metadata": {
        "colab": {
          "base_uri": "https://localhost:8080/"
        },
        "id": "b0t6OaCzYtxp",
        "outputId": "7760c02a-c85c-40eb-f135-06d74b6815a6"
      },
      "outputs": [
        {
          "output_type": "stream",
          "name": "stdout",
          "text": [
            "[3, 6, 9, 12, 15, 18, 21]\n"
          ]
        }
      ],
      "source": [
        "def triple_of_number(num):\n",
        "  return 3*num\n",
        "numbers = [1,2,3,4,5,6,7]\n",
        "num = list(map(triple_of_number,numbers))\n",
        "print(num)"
      ]
    }
  ]
}